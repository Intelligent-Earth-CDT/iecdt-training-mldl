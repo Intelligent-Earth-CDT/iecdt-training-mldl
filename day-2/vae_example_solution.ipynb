{
 "cells": [
  {
   "cell_type": "markdown",
   "metadata": {},
   "source": [
    "# Basic VAE implementation\n",
    "\n",
    "This notebook defines a basic VAE to model the MNIST dataset, using PyTorch."
   ]
  },
  {
   "cell_type": "markdown",
   "metadata": {},
   "source": [
    "## VAE Theory\n",
    "\n",
    "The goal of a VAE is to (implicitly) learn a distribution $p(x),\\,x \\in X$, with $X$ a vector space, which is as similar as possible to an unknown target distribution $p^{*}(x)$, given a set of samples from this distribution $\\mathcal{D}=\\{x_1, ..., x_{n}\\}$. VAEs make the assumption that $x$ depends on some set of underlying latent variables $z \\in Z$, which are distributed according to some known distribution $p(z)$, and model the likelihood $p(x\\mid z)$ and an approximation of the posterior distribution $p(z \\mid x)$.\n",
    "\n",
    "To help them learn, VAEs use variational inference. In this approach, instead of computing the posterior $p(z \\mid x)$, which is often intractable, one searches for a more tractable distribution $q(z \\mid x)$ which approximates the posterior. VAEs assume parameterised models of the likelihood and the approximate posterior, given by $p(x \\mid z,\\theta)$ and $q(z \\mid x, \\theta)$, where $\\theta$ represent model parameters. To learn  $q(z \\mid x, \\theta)$, we maximise the Evidence Lower Bound (or ELBO) over the training data, which is given by\n",
    "\n",
    "\\begin{equation}\n",
    "ELBO = \\sum_{i=1}^{n} \\mathbb{E}_{q(z_{i} \\mid x_{i},\\theta)} \\left[\\log p(x_{i} \\mid z_{i},\\theta) \\right] - D_{\\mathrm{KL}}(q(z_{i}\\mid x_{i},\\theta) \\, \\| \\, p(z_{i}))~,\n",
    "\\end{equation}\n",
    "assuming the training samples are independently and identically distributed. \n",
    "\n",
    "To be able to compute the ELBO, we assume a Gaussian VAE:\n",
    "\\begin{align}\n",
    "\\label{eq:vae_likelihood}\n",
    "p(x \\mid z,\\theta)&=\\mathcal{N}(x; f(z; \\theta_{f}), \\sigma^{2} I)\n",
    "\\\\\n",
    "\\label{eq:vae_prior}\n",
    "p(z)&=\\mathcal{N}(z; 0, I)\n",
    "\\\\\n",
    "\\label{eq:vae_q}\n",
    "q(z\\mid x,\\theta)&=\\mathcal{N}(z; g(x;\\theta_{g}), \\mathrm{diag}(h(x;\\theta_{h})^{2}))~,\n",
    "\\end{align}\n",
    "where $f$, $g$ and $h$ are all deep neural networks parameterised by $\\theta=\\{\\theta_{f},\\theta_{g},\\theta_{h}\\}$, $\\sigma$ is a hyperparameter. Our optimal network parameters are then given by\n",
    "\n",
    "\\begin{equation}\n",
    "\\label{eq:vae_mle}\n",
    "\\hat \\theta_{f}, \\hat \\theta_{g}, \\hat \\theta_{h} = argmin_{\\theta_{f}, \\theta_{g}, \\theta_{h}}  \\left\\{ \\sum_{i=1}^{n} \\mathbb{E}_{q(z_{i} \\mid x_{i}, \\theta_{g},\\theta_{h})} \\left[{\\| x_{i}-f(z_{i};\\theta_{f}) \\|^{2} \\over 2 \\sigma^{2}}\\right] + D_{\\mathrm{KL}}(q(z_{i}\\mid x_{i},\\theta_{g},\\theta_{h}) \\, \\| \\, p(z_{i})) \\right\\}~.\n",
    "\\end{equation}\n",
    "\n",
    "The KL term above can easily be computed analytically as it involves two normal distributions. When calculating the expectation over $q(z\\mid x,\\theta)$, which is usually carried out via sampling, a \"reparameterisation trick\" is used. One notes that sampling $z \\sim q(z\\mid x,\\theta)$ is equivalent to sampling $\\epsilon \\sim \\mathcal{N}(\\epsilon;0,I)$ and computing $z=h(x;\\theta_{h})\\epsilon + g(x;\\theta_{g})$, which allows gradient descent methods to be used to find $\\hat \\theta$.\n",
    "\n",
    "> **Extension task**: show that the KL divergence term in this case can be analytically derived as: $D_{\\mathrm{KL}}(q(z_{i}\\mid x_{i},\\theta_{g},\\theta_{h}) \\, \\| \\, p(z_{i}))= -{1\\over 2} \\sum^{J}_{j=1} \\left[ 1 + \\log(h_{j}^{2}) - h_{j}^{2} - g_{j}^{2} \\right]$ where $J$ is the dimension of the latent vector.\n",
    "\n",
    "For more on VAE theory, see: https://arxiv.org/abs/1606.05908 and https://arxiv.org/abs/1907.08956."
   ]
  },
  {
   "cell_type": "code",
   "execution_count": 1,
   "metadata": {},
   "outputs": [],
   "source": [
    "import numpy as np\n",
    "import torch\n",
    "import matplotlib.pyplot as plt"
   ]
  },
  {
   "cell_type": "markdown",
   "metadata": {},
   "source": [
    "## Load training data\n",
    "\n",
    "First, we load the MNIST training data (similar to before), and plot some training examples."
   ]
  },
  {
   "cell_type": "code",
   "execution_count": 2,
   "metadata": {},
   "outputs": [],
   "source": [
    "from torchvision import datasets, transforms\n",
    "from torch.utils.data import DataLoader\n",
    "\n",
    "train_dataset = datasets.MNIST('./data', train=True, download=True,\n",
    "                   transform=transforms.Compose([\n",
    "                       transforms.ToTensor(),\n",
    "                   ]))\n",
    "\n",
    "test_dataset = datasets.MNIST('./data', train=False, download=True,\n",
    "                   transform=transforms.Compose([\n",
    "                       transforms.ToTensor(),\n",
    "                   ]))"
   ]
  },
  {
   "cell_type": "code",
   "execution_count": 3,
   "metadata": {},
   "outputs": [
    {
     "name": "stdout",
     "output_type": "stream",
     "text": [
      "60000\n",
      "10000\n"
     ]
    },
    {
     "data": {
      "image/png": "[encoded data removed]",
      "text/plain": [
       "<Figure size 432x288 with 2 Axes>"
      ]
     },
     "metadata": {
      "needs_background": "light"
     },
     "output_type": "display_data"
    },
    {
     "data": {
      "image/png": "[encoded data removed]",
      "text/plain": [
       "<Figure size 432x288 with 2 Axes>"
      ]
     },
     "metadata": {
      "needs_background": "light"
     },
     "output_type": "display_data"
    },
    {
     "name": "stdout",
     "output_type": "stream",
     "text": [
      "torch.Size([1, 28, 28])\n"
     ]
    }
   ],
   "source": [
    "print(len(train_dataset))\n",
    "print(len(test_dataset))\n",
    "\n",
    "for i in [0, 101]:\n",
    "    im,label = train_dataset[i]\n",
    "    \n",
    "    plt.imshow(im.numpy()[0])\n",
    "    plt.title(label)\n",
    "    plt.colorbar()\n",
    "    plt.show()\n",
    "\n",
    "print(im.shape)"
   ]
  },
  {
   "cell_type": "markdown",
   "metadata": {},
   "source": [
    "## Define network\n",
    "\n",
    "Next we define the VAE."
   ]
  },
  {
   "cell_type": "markdown",
   "metadata": {},
   "source": [
    "> **Task 1**: comple the PyTorch VAE model below by implementing the `reparameterize` method which samples from the approximate posterior using the reparameterisation trick, and implementing the model's `forward` method, which returns the estimated parameters $f$,$g$ and $h$ of the likelihood and approximate posterior given a sample $x$."
   ]
  },
  {
   "cell_type": "code",
   "execution_count": 4,
   "metadata": {},
   "outputs": [],
   "source": [
    "import torch.nn as nn\n",
    "import torch.nn.functional as F\n",
    "\n",
    "class VAE(nn.Module):\n",
    "    def __init__(self):\n",
    "        super(VAE, self).__init__()\n",
    "\n",
    "        self.fc1 = nn.Linear(784, 400)\n",
    "        self.fc21 = nn.Linear(400, 20)\n",
    "        self.fc22 = nn.Linear(400, 20)\n",
    "        self.fc3 = nn.Linear(20, 400)\n",
    "        self.fc4 = nn.Linear(400, 784)\n",
    "\n",
    "    def encode(self, x):\n",
    "        h1 = F.relu(self.fc1(x))\n",
    "        return self.fc21(h1), self.fc22(h1)# estimates mu, log-variance of approximate posterior q(z|x)\n",
    "\n",
    "    def reparameterize(self, mu, logvar):\n",
    "        \n",
    "        # TODO: write some code which returns a random sample from the approximate posterior q(z|x) here\n",
    "        \n",
    "        std = torch.exp(0.5*logvar)\n",
    "        eps = torch.randn_like(std)\n",
    "        return mu + eps*std\n",
    "\n",
    "    def decode(self, z):\n",
    "        h3 = F.relu(self.fc3(z))\n",
    "        return torch.sigmoid(self.fc4(h3))# estimates mu of likelihood p(x|z)\n",
    "\n",
    "    def forward(self, x):\n",
    "        \n",
    "        # TODO: write some code which returns\n",
    "        # 1) mu,log-variance of the approximate posterior given x\n",
    "        # 2) mu of the likelihood given a random sample from the posterior given x\n",
    "        \n",
    "        mu, logvar = self.encode(x.view(-1, 784))\n",
    "        z = self.reparameterize(mu, logvar)\n",
    "        recon = self.decode(z)\n",
    "        \n",
    "        return recon, mu, logvar# should return  (likelihood mu, posterior mu, posterior log-variance)\n",
    "    \n",
    "model = VAE()"
   ]
  },
  {
   "cell_type": "markdown",
   "metadata": {},
   "source": [
    "## Loss function\n",
    "\n",
    "Next, we define the loss function to train the VAE model."
   ]
  },
  {
   "cell_type": "markdown",
   "metadata": {},
   "source": [
    "> **Task 2**: define a loss function to train the VAE model, which minimises the expression for the negative ELBO shown above."
   ]
  },
  {
   "cell_type": "code",
   "execution_count": 5,
   "metadata": {},
   "outputs": [],
   "source": [
    "def loss_function(recon, x, mu, logvar):\n",
    "    \n",
    "    # TODO: write some code here to compute the negative ELBO shown above.\n",
    "    \n",
    "    # The reconstruction term can be approximated with a single sample from the approximate posterior.\n",
    "    # Use the analytical exppression for the KL term.\n",
    "    # recon, mu and logvar are the outputs from model.forward(x).\n",
    "    \n",
    "    L2 = torch.sum((recon - x.view(-1, 784))**2)\n",
    "    \n",
    "    KLD = -0.5 * torch.sum(1 + logvar - mu.pow(2) - logvar.exp())\n",
    "\n",
    "    return L2 + 1.0 * KLD"
   ]
  },
  {
   "cell_type": "markdown",
   "metadata": {},
   "source": [
    "## Train\n",
    "\n",
    "Finally, we train the VAE model."
   ]
  },
  {
   "cell_type": "code",
   "execution_count": 6,
   "metadata": {},
   "outputs": [],
   "source": [
    "from torch import optim\n",
    "\n",
    "optimizer = torch.optim.Adam(model.parameters(), lr=1e-3)\n",
    "\n",
    "train_loader = DataLoader(train_dataset, batch_size=64, shuffle=True)# this automatically batches up examples, adding a batch dimension\n",
    "test_loader = DataLoader(test_dataset, batch_size=64, shuffle=True)"
   ]
  },
  {
   "cell_type": "markdown",
   "metadata": {},
   "source": [
    "> **Task 3**: write some code to train the VAE using the training data and the loss function defined above."
   ]
  },
  {
   "cell_type": "code",
   "execution_count": 7,
   "metadata": {},
   "outputs": [
    {
     "name": "stdout",
     "output_type": "stream",
     "text": [
      "Train Epoch: 1 [0/60000 (0%)]\tLoss: 183.892242\n",
      "Train Epoch: 1 [6400/60000 (11%)]\tLoss: 49.283943\n",
      "Train Epoch: 1 [12800/60000 (21%)]\tLoss: 42.134514\n",
      "Train Epoch: 1 [19200/60000 (32%)]\tLoss: 36.323078\n",
      "Train Epoch: 1 [25600/60000 (43%)]\tLoss: 39.800995\n",
      "Train Epoch: 1 [32000/60000 (53%)]\tLoss: 35.856144\n",
      "Train Epoch: 1 [38400/60000 (64%)]\tLoss: 37.185261\n",
      "Train Epoch: 1 [44800/60000 (75%)]\tLoss: 36.723495\n",
      "Train Epoch: 1 [51200/60000 (85%)]\tLoss: 33.689613\n",
      "Train Epoch: 1 [57600/60000 (96%)]\tLoss: 33.198021\n",
      "====> Epoch: 1 Average loss: 41.1494\n",
      "====> Test set loss: 34.4574\n",
      "Train Epoch: 2 [0/60000 (0%)]\tLoss: 34.823921\n",
      "Train Epoch: 2 [6400/60000 (11%)]\tLoss: 34.582943\n",
      "Train Epoch: 2 [12800/60000 (21%)]\tLoss: 33.159401\n",
      "Train Epoch: 2 [19200/60000 (32%)]\tLoss: 34.211575\n",
      "Train Epoch: 2 [25600/60000 (43%)]\tLoss: 31.131235\n",
      "Train Epoch: 2 [32000/60000 (53%)]\tLoss: 33.862625\n",
      "Train Epoch: 2 [38400/60000 (64%)]\tLoss: 35.180511\n",
      "Train Epoch: 2 [44800/60000 (75%)]\tLoss: 33.390636\n",
      "Train Epoch: 2 [51200/60000 (85%)]\tLoss: 33.216782\n",
      "Train Epoch: 2 [57600/60000 (96%)]\tLoss: 32.608322\n",
      "====> Epoch: 2 Average loss: 33.6089\n",
      "====> Test set loss: 32.5687\n",
      "Train Epoch: 3 [0/60000 (0%)]\tLoss: 32.574986\n",
      "Train Epoch: 3 [6400/60000 (11%)]\tLoss: 33.530266\n",
      "Train Epoch: 3 [12800/60000 (21%)]\tLoss: 31.417805\n",
      "Train Epoch: 3 [19200/60000 (32%)]\tLoss: 32.084053\n",
      "Train Epoch: 3 [25600/60000 (43%)]\tLoss: 32.480045\n",
      "Train Epoch: 3 [32000/60000 (53%)]\tLoss: 32.923630\n",
      "Train Epoch: 3 [38400/60000 (64%)]\tLoss: 32.117260\n",
      "Train Epoch: 3 [44800/60000 (75%)]\tLoss: 31.106312\n",
      "Train Epoch: 3 [51200/60000 (85%)]\tLoss: 30.375284\n",
      "Train Epoch: 3 [57600/60000 (96%)]\tLoss: 32.795738\n",
      "====> Epoch: 3 Average loss: 32.3035\n",
      "====> Test set loss: 31.6099\n",
      "Train Epoch: 4 [0/60000 (0%)]\tLoss: 31.900740\n",
      "Train Epoch: 4 [6400/60000 (11%)]\tLoss: 30.010969\n",
      "Train Epoch: 4 [12800/60000 (21%)]\tLoss: 31.431389\n",
      "Train Epoch: 4 [19200/60000 (32%)]\tLoss: 31.555977\n",
      "Train Epoch: 4 [25600/60000 (43%)]\tLoss: 33.172142\n",
      "Train Epoch: 4 [32000/60000 (53%)]\tLoss: 32.028038\n",
      "Train Epoch: 4 [38400/60000 (64%)]\tLoss: 31.265125\n",
      "Train Epoch: 4 [44800/60000 (75%)]\tLoss: 31.432306\n",
      "Train Epoch: 4 [51200/60000 (85%)]\tLoss: 31.216328\n",
      "Train Epoch: 4 [57600/60000 (96%)]\tLoss: 32.278542\n",
      "====> Epoch: 4 Average loss: 31.6393\n",
      "====> Test set loss: 31.1438\n"
     ]
    }
   ],
   "source": [
    "def train(epoch):\n",
    "    model.train()\n",
    "    \n",
    "    train_loss = 0\n",
    "    for batch_idx, (data, _) in enumerate(train_loader):\n",
    "        \n",
    "        # TODO: write some code here\n",
    "        # carry out an optimisation step for each batch\n",
    "        # after each epoch report the average loss over the training dataset\n",
    "        \n",
    "        optimizer.zero_grad()\n",
    "        recon_batch, mu, logvar = model(data)\n",
    "        loss = loss_function(recon_batch, data, mu, logvar)\n",
    "        loss.backward()\n",
    "        train_loss += loss.item()\n",
    "        optimizer.step()\n",
    "        \n",
    "        if batch_idx % 100 == 0:\n",
    "            print('Train Epoch: {} [{}/{} ({:.0f}%)]\\tLoss: {:.6f}'.format(\n",
    "                epoch, batch_idx * len(data), len(train_loader.dataset),\n",
    "                100. * batch_idx / len(train_loader),\n",
    "                loss.item() / len(data)))\n",
    "    print('====> Epoch: {} Average loss: {:.4f}'.format(\n",
    "          epoch, train_loss / len(train_loader.dataset)))\n",
    "\n",
    "\n",
    "def test(epoch):\n",
    "    model.eval()\n",
    "    \n",
    "    test_loss = 0\n",
    "    with torch.no_grad():\n",
    "        for i, (data, _) in enumerate(test_loader):\n",
    "            \n",
    "            # TODO: write some code here\n",
    "            # report the average loss over the test dataset\n",
    "            \n",
    "            recon_batch, mu, logvar = model(data)\n",
    "            test_loss += loss_function(recon_batch, data, mu, logvar).item()\n",
    "    test_loss /= len(test_loader.dataset)\n",
    "    print('====> Test set loss: {:.4f}'.format(test_loss))\n",
    "\n",
    "for epoch in range(1, 5):\n",
    "    train(epoch)\n",
    "    test(epoch)"
   ]
  },
  {
   "cell_type": "markdown",
   "metadata": {},
   "source": [
    "## Evaluate\n",
    "\n",
    "In this section we evaluate the performance of the trained VAE.\n",
    "\n",
    "### Reconstruction quality\n",
    "\n",
    "> **Task 4**: plot example VAE reconstructions (mean of the likelihood) for some of the images in the test set."
   ]
  },
  {
   "cell_type": "code",
   "execution_count": 8,
   "metadata": {},
   "outputs": [
    {
     "data": {
      "image/png": "[encoded data removed]",
      "text/plain": [
       "<Figure size 1440x288 with 20 Axes>"
      ]
     },
     "metadata": {
      "needs_background": "light"
     },
     "output_type": "display_data"
    }
   ],
   "source": [
    "# TODO: write some code here\n",
    "    \n",
    "with torch.no_grad():\n",
    "    \n",
    "    plt.figure(figsize=(20,4))\n",
    "    \n",
    "    for i in np.arange(10):\n",
    "        \n",
    "        data,_ = test_dataset[i]\n",
    "        recon, mu, logvar = model(data)\n",
    "        \n",
    "        plt.subplot(2,10,i+1)\n",
    "        plt.imshow(data[0])\n",
    "        plt.axis(\"off\")\n",
    "        plt.subplot(2,10,10+i+1)\n",
    "        plt.imshow(recon.view(28, 28))\n",
    "        plt.axis(\"off\")\n",
    "    plt.show()"
   ]
  },
  {
   "cell_type": "markdown",
   "metadata": {},
   "source": [
    "### Latent space interpolation\n",
    "\n",
    "Now that we have learnt a latent representation, we can interpolate smoothly between two digits by linearly interpolating between them in the latent space.\n",
    "\n",
    "> **Task 5**: show the mean of the likelihood (image reconstruction) for a set latent vectors which are linearly interpolated between two test images in the latent space."
   ]
  },
  {
   "cell_type": "code",
   "execution_count": 9,
   "metadata": {
    "scrolled": false
   },
   "outputs": [
    {
     "data": {
      "image/png": "[encoded data removed]",
      "text/plain": [
       "<Figure size 1440x144 with 10 Axes>"
      ]
     },
     "metadata": {
      "needs_background": "light"
     },
     "output_type": "display_data"
    }
   ],
   "source": [
    "# TODO: write some code here\n",
    "\n",
    "with torch.no_grad():\n",
    "    \n",
    "    mu1 = model(test_dataset[10][0])[1]\n",
    "    mu2 = model(test_dataset[123][0])[1]\n",
    "    \n",
    "    plt.figure(figsize=(20,2))\n",
    "    \n",
    "    for i,k in enumerate(np.linspace(0,1,10)):\n",
    "        \n",
    "        mu = mu1 + k*(mu2-mu1)\n",
    "        recon = model.decode(mu)\n",
    "        \n",
    "        plt.subplot(1,10,i+1)\n",
    "        plt.imshow(recon.view(28, 28))\n",
    "        plt.axis(\"off\")\n",
    "    plt.show()"
   ]
  },
  {
   "cell_type": "markdown",
   "metadata": {},
   "source": [
    "### Random sampling of the posterior\n",
    "\n",
    "We can also generate random samples of $x$ given values of $z$ drawn from its prior distribution (a unit Gaussian).\n",
    "\n",
    "> **Task 6**: generate random latent vectors from the prior latent distribution and show the resulting likelihood means (image reconstructions)."
   ]
  },
  {
   "cell_type": "code",
   "execution_count": 10,
   "metadata": {
    "scrolled": false
   },
   "outputs": [
    {
     "data": {
      "image/png": "[encoded data removed]",
      "text/plain": [
       "<Figure size 1440x144 with 10 Axes>"
      ]
     },
     "metadata": {
      "needs_background": "light"
     },
     "output_type": "display_data"
    }
   ],
   "source": [
    "# TODO: write some code here\n",
    "\n",
    "with torch.no_grad():\n",
    "    \n",
    "    sample = torch.randn(10, 20)\n",
    "    sample = model.decode(sample)\n",
    "            \n",
    "a = sample.view(10, 28, 28)\n",
    "\n",
    "plt.figure(figsize=(20,2))\n",
    "for i,x in enumerate(a):\n",
    "    plt.subplot(1,10,i+1)\n",
    "    plt.imshow(x, vmin=0, vmax=1)\n",
    "    plt.axis(\"off\")\n",
    "plt.show()"
   ]
  },
  {
   "cell_type": "markdown",
   "metadata": {},
   "source": [
    "## Extensions\n",
    "\n",
    "Have a go at these if you have time.\n",
    "\n",
    "> What happens to the performance when you reduce the dimensionality of the latent space?\n",
    "\n",
    "> Try using a Beta-VAE (https://openreview.net/forum?id=Sy2fzU9gl) : what happens when the KL term is made much stronger?\n",
    "\n",
    "> Try using a binary cross-entropy loss instead of a L2 loss in the loss function (e.g. https://github.com/pytorch/examples/blob/master/vae/main.py)\n",
    "\n",
    "> Try to run clustering in the latent space to label the test data."
   ]
  },
  {
   "cell_type": "code",
   "execution_count": null,
   "metadata": {},
   "outputs": [],
   "source": []
  }
 ],
 "metadata": {
  "kernelspec": {
   "display_name": "Python 3",
   "language": "python",
   "name": "python3"
  },
  "language_info": {
   "codemirror_mode": {
    "name": "ipython",
    "version": 3
   },
   "file_extension": ".py",
   "mimetype": "text/x-python",
   "name": "python",
   "nbconvert_exporter": "python",
   "pygments_lexer": "ipython3",
   "version": "3.8.5"
  }
 },
 "nbformat": 4,
 "nbformat_minor": 2
}
